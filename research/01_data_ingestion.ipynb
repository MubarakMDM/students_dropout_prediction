{
 "cells": [
  {
   "cell_type": "code",
   "execution_count": 1,
   "metadata": {},
   "outputs": [],
   "source": [
    "import os"
   ]
  },
  {
   "cell_type": "code",
   "execution_count": 2,
   "metadata": {},
   "outputs": [
    {
     "data": {
      "text/plain": [
       "'c:\\\\Mubarak\\\\Projects\\\\PROJECTS\\\\EKINOX\\\\student_drop_out\\\\student_drop_out\\\\research'"
      ]
     },
     "execution_count": 2,
     "metadata": {},
     "output_type": "execute_result"
    }
   ],
   "source": [
    "%pwd"
   ]
  },
  {
   "cell_type": "code",
   "execution_count": 3,
   "metadata": {},
   "outputs": [],
   "source": [
    "os.chdir(\"../\")"
   ]
  },
  {
   "cell_type": "code",
   "execution_count": 7,
   "metadata": {},
   "outputs": [
    {
     "data": {
      "text/plain": [
       "'c:\\\\Mubarak\\\\Projects\\\\PROJECTS\\\\EKINOX\\\\student_drop_out\\\\student_drop_out'"
      ]
     },
     "execution_count": 7,
     "metadata": {},
     "output_type": "execute_result"
    }
   ],
   "source": [
    "%pwd"
   ]
  },
  {
   "cell_type": "code",
   "execution_count": 5,
   "metadata": {},
   "outputs": [],
   "source": [
    "from dataclasses import dataclass\n",
    "from pathlib import Path\n",
    "\n",
    "\n",
    "@dataclass(frozen=True)\n",
    "class DataIngestionConfig:\n",
    "    root_dir: Path\n",
    "    source_URL: str\n",
    "    local_data_file: Path\n",
    "    unzip_dir: Path"
   ]
  },
  {
   "cell_type": "code",
   "execution_count": 16,
   "metadata": {},
   "outputs": [
    {
     "ename": "ModuleNotFoundError",
     "evalue": "No module named 'student_drop_out'",
     "output_type": "error",
     "traceback": [
      "\u001b[1;31m---------------------------------------------------------------------------\u001b[0m",
      "\u001b[1;31mModuleNotFoundError\u001b[0m                       Traceback (most recent call last)",
      "Cell \u001b[1;32mIn[16], line 1\u001b[0m\n\u001b[1;32m----> 1\u001b[0m \u001b[38;5;28;01mfrom\u001b[39;00m  \u001b[38;5;21;01mstudent_drop_out\u001b[39;00m\u001b[38;5;21;01m.\u001b[39;00m\u001b[38;5;21;01mconstants\u001b[39;00m \u001b[38;5;28;01mimport\u001b[39;00m \u001b[38;5;241m*\u001b[39m\n\u001b[0;32m      2\u001b[0m \u001b[38;5;28;01mfrom\u001b[39;00m \u001b[38;5;21;01mstudent_drop_out\u001b[39;00m\u001b[38;5;21;01m.\u001b[39;00m\u001b[38;5;21;01mutils\u001b[39;00m\u001b[38;5;21;01m.\u001b[39;00m\u001b[38;5;21;01mcommon\u001b[39;00m \u001b[38;5;28;01mimport\u001b[39;00m read_yaml, create_directories\n",
      "\u001b[1;31mModuleNotFoundError\u001b[0m: No module named 'student_drop_out'"
     ]
    }
   ],
   "source": [
    "from  student_drop_out.constants import *\n",
    "from student_drop_out.utils.common import read_yaml, create_directories"
   ]
  },
  {
   "cell_type": "code",
   "execution_count": 14,
   "metadata": {},
   "outputs": [
    {
     "name": "stdout",
     "output_type": "stream",
     "text": [
      "Obtaining file:///C:/Mubarak/Projects/PROJECTS/EKINOX/student_drop_out/student_drop_out (from -r requirements.txt (line 13))\n",
      "  Preparing metadata (setup.py): started\n",
      "  Preparing metadata (setup.py): finished with status 'done'\n",
      "Requirement already satisfied: pandas in c:\\users\\mubar\\anaconda3\\envs\\edu1\\lib\\site-packages (from -r requirements.txt (line 1)) (2.0.3)\n",
      "Requirement already satisfied: numpy in c:\\users\\mubar\\anaconda3\\envs\\edu1\\lib\\site-packages (from -r requirements.txt (line 2)) (1.24.4)\n",
      "Requirement already satisfied: matplotlib in c:\\users\\mubar\\anaconda3\\envs\\edu1\\lib\\site-packages (from -r requirements.txt (line 3)) (3.7.4)\n",
      "Requirement already satisfied: plotly in c:\\users\\mubar\\anaconda3\\envs\\edu1\\lib\\site-packages (from -r requirements.txt (line 4)) (5.20.0)\n",
      "Requirement already satisfied: seaborn in c:\\users\\mubar\\anaconda3\\envs\\edu1\\lib\\site-packages (from -r requirements.txt (line 5)) (0.13.2)\n",
      "Requirement already satisfied: scipy in c:\\users\\mubar\\anaconda3\\envs\\edu1\\lib\\site-packages (from -r requirements.txt (line 6)) (1.10.1)\n",
      "Requirement already satisfied: scikit-learn in c:\\users\\mubar\\anaconda3\\envs\\edu1\\lib\\site-packages (from -r requirements.txt (line 7)) (1.3.2)\n",
      "Requirement already satisfied: imblearn in c:\\users\\mubar\\anaconda3\\envs\\edu1\\lib\\site-packages (from -r requirements.txt (line 8)) (0.0)\n",
      "Requirement already satisfied: xgboost in c:\\users\\mubar\\anaconda3\\envs\\edu1\\lib\\site-packages (from -r requirements.txt (line 9)) (1.6.2)\n",
      "Requirement already satisfied: catboost in c:\\users\\mubar\\anaconda3\\envs\\edu1\\lib\\site-packages (from -r requirements.txt (line 10)) (1.2.3)\n",
      "Requirement already satisfied: streamlit in c:\\users\\mubar\\anaconda3\\envs\\edu1\\lib\\site-packages (from -r requirements.txt (line 11)) (1.32.2)\n",
      "Requirement already satisfied: from_root in c:\\users\\mubar\\anaconda3\\envs\\edu1\\lib\\site-packages (from -r requirements.txt (line 12)) (1.3.0)\n",
      "Requirement already satisfied: python-dateutil>=2.8.2 in c:\\users\\mubar\\anaconda3\\envs\\edu1\\lib\\site-packages (from pandas->-r requirements.txt (line 1)) (2.9.0)\n",
      "Requirement already satisfied: pytz>=2020.1 in c:\\users\\mubar\\anaconda3\\envs\\edu1\\lib\\site-packages (from pandas->-r requirements.txt (line 1)) (2024.1)\n",
      "Requirement already satisfied: tzdata>=2022.1 in c:\\users\\mubar\\anaconda3\\envs\\edu1\\lib\\site-packages (from pandas->-r requirements.txt (line 1)) (2024.1)\n",
      "Requirement already satisfied: contourpy>=1.0.1 in c:\\users\\mubar\\anaconda3\\envs\\edu1\\lib\\site-packages (from matplotlib->-r requirements.txt (line 3)) (1.1.1)\n",
      "Requirement already satisfied: cycler>=0.10 in c:\\users\\mubar\\anaconda3\\envs\\edu1\\lib\\site-packages (from matplotlib->-r requirements.txt (line 3)) (0.12.1)\n",
      "Requirement already satisfied: fonttools>=4.22.0 in c:\\users\\mubar\\anaconda3\\envs\\edu1\\lib\\site-packages (from matplotlib->-r requirements.txt (line 3)) (4.50.0)\n",
      "Requirement already satisfied: kiwisolver>=1.0.1 in c:\\users\\mubar\\anaconda3\\envs\\edu1\\lib\\site-packages (from matplotlib->-r requirements.txt (line 3)) (1.4.5)\n",
      "Requirement already satisfied: packaging>=20.0 in c:\\users\\mubar\\anaconda3\\envs\\edu1\\lib\\site-packages (from matplotlib->-r requirements.txt (line 3)) (23.2)\n",
      "Requirement already satisfied: pillow>=6.2.0 in c:\\users\\mubar\\anaconda3\\envs\\edu1\\lib\\site-packages (from matplotlib->-r requirements.txt (line 3)) (10.2.0)\n",
      "Requirement already satisfied: pyparsing>=2.3.1 in c:\\users\\mubar\\anaconda3\\envs\\edu1\\lib\\site-packages (from matplotlib->-r requirements.txt (line 3)) (3.1.2)\n",
      "Requirement already satisfied: importlib-resources>=3.2.0 in c:\\users\\mubar\\anaconda3\\envs\\edu1\\lib\\site-packages (from matplotlib->-r requirements.txt (line 3)) (6.3.2)\n",
      "Requirement already satisfied: tenacity>=6.2.0 in c:\\users\\mubar\\anaconda3\\envs\\edu1\\lib\\site-packages (from plotly->-r requirements.txt (line 4)) (8.2.3)\n",
      "Requirement already satisfied: joblib>=1.1.1 in c:\\users\\mubar\\anaconda3\\envs\\edu1\\lib\\site-packages (from scikit-learn->-r requirements.txt (line 7)) (1.3.2)\n",
      "Requirement already satisfied: threadpoolctl>=2.0.0 in c:\\users\\mubar\\anaconda3\\envs\\edu1\\lib\\site-packages (from scikit-learn->-r requirements.txt (line 7)) (3.3.0)\n",
      "Requirement already satisfied: imbalanced-learn in c:\\users\\mubar\\anaconda3\\envs\\edu1\\lib\\site-packages (from imblearn->-r requirements.txt (line 8)) (0.12.0)\n",
      "Requirement already satisfied: graphviz in c:\\users\\mubar\\anaconda3\\envs\\edu1\\lib\\site-packages (from catboost->-r requirements.txt (line 10)) (0.20.2)\n",
      "Requirement already satisfied: six in c:\\users\\mubar\\anaconda3\\envs\\edu1\\lib\\site-packages (from catboost->-r requirements.txt (line 10)) (1.16.0)\n",
      "Requirement already satisfied: altair<6,>=4.0 in c:\\users\\mubar\\anaconda3\\envs\\edu1\\lib\\site-packages (from streamlit->-r requirements.txt (line 11)) (5.2.0)\n",
      "Requirement already satisfied: blinker<2,>=1.0.0 in c:\\users\\mubar\\anaconda3\\envs\\edu1\\lib\\site-packages (from streamlit->-r requirements.txt (line 11)) (1.7.0)\n",
      "Requirement already satisfied: cachetools<6,>=4.0 in c:\\users\\mubar\\anaconda3\\envs\\edu1\\lib\\site-packages (from streamlit->-r requirements.txt (line 11)) (5.3.3)\n",
      "Requirement already satisfied: click<9,>=7.0 in c:\\users\\mubar\\anaconda3\\envs\\edu1\\lib\\site-packages (from streamlit->-r requirements.txt (line 11)) (8.1.7)\n",
      "Requirement already satisfied: protobuf<5,>=3.20 in c:\\users\\mubar\\anaconda3\\envs\\edu1\\lib\\site-packages (from streamlit->-r requirements.txt (line 11)) (4.25.3)\n",
      "Requirement already satisfied: pyarrow>=7.0 in c:\\users\\mubar\\anaconda3\\envs\\edu1\\lib\\site-packages (from streamlit->-r requirements.txt (line 11)) (15.0.2)\n",
      "Requirement already satisfied: requests<3,>=2.27 in c:\\users\\mubar\\anaconda3\\envs\\edu1\\lib\\site-packages (from streamlit->-r requirements.txt (line 11)) (2.31.0)\n",
      "Requirement already satisfied: rich<14,>=10.14.0 in c:\\users\\mubar\\anaconda3\\envs\\edu1\\lib\\site-packages (from streamlit->-r requirements.txt (line 11)) (13.7.1)\n",
      "Requirement already satisfied: toml<2,>=0.10.1 in c:\\users\\mubar\\anaconda3\\envs\\edu1\\lib\\site-packages (from streamlit->-r requirements.txt (line 11)) (0.10.2)\n",
      "Requirement already satisfied: typing-extensions<5,>=4.3.0 in c:\\users\\mubar\\anaconda3\\envs\\edu1\\lib\\site-packages (from streamlit->-r requirements.txt (line 11)) (4.10.0)\n",
      "Requirement already satisfied: gitpython!=3.1.19,<4,>=3.0.7 in c:\\users\\mubar\\anaconda3\\envs\\edu1\\lib\\site-packages (from streamlit->-r requirements.txt (line 11)) (3.1.42)\n",
      "Requirement already satisfied: pydeck<1,>=0.8.0b4 in c:\\users\\mubar\\anaconda3\\envs\\edu1\\lib\\site-packages (from streamlit->-r requirements.txt (line 11)) (0.8.1b0)\n",
      "Requirement already satisfied: tornado<7,>=6.0.3 in c:\\users\\mubar\\anaconda3\\envs\\edu1\\lib\\site-packages (from streamlit->-r requirements.txt (line 11)) (6.2)\n",
      "Requirement already satisfied: watchdog>=2.1.5 in c:\\users\\mubar\\anaconda3\\envs\\edu1\\lib\\site-packages (from streamlit->-r requirements.txt (line 11)) (4.0.0)\n",
      "Requirement already satisfied: jinja2 in c:\\users\\mubar\\anaconda3\\envs\\edu1\\lib\\site-packages (from altair<6,>=4.0->streamlit->-r requirements.txt (line 11)) (3.1.3)\n",
      "Requirement already satisfied: jsonschema>=3.0 in c:\\users\\mubar\\anaconda3\\envs\\edu1\\lib\\site-packages (from altair<6,>=4.0->streamlit->-r requirements.txt (line 11)) (4.21.1)\n",
      "Requirement already satisfied: toolz in c:\\users\\mubar\\anaconda3\\envs\\edu1\\lib\\site-packages (from altair<6,>=4.0->streamlit->-r requirements.txt (line 11)) (0.12.1)\n",
      "Requirement already satisfied: colorama in c:\\users\\mubar\\anaconda3\\envs\\edu1\\lib\\site-packages (from click<9,>=7.0->streamlit->-r requirements.txt (line 11)) (0.4.6)\n",
      "Requirement already satisfied: gitdb<5,>=4.0.1 in c:\\users\\mubar\\anaconda3\\envs\\edu1\\lib\\site-packages (from gitpython!=3.1.19,<4,>=3.0.7->streamlit->-r requirements.txt (line 11)) (4.0.11)\n",
      "Requirement already satisfied: zipp>=3.1.0 in c:\\users\\mubar\\anaconda3\\envs\\edu1\\lib\\site-packages (from importlib-resources>=3.2.0->matplotlib->-r requirements.txt (line 3)) (3.17.0)\n",
      "Requirement already satisfied: charset-normalizer<4,>=2 in c:\\users\\mubar\\anaconda3\\envs\\edu1\\lib\\site-packages (from requests<3,>=2.27->streamlit->-r requirements.txt (line 11)) (3.3.2)\n",
      "Requirement already satisfied: idna<4,>=2.5 in c:\\users\\mubar\\anaconda3\\envs\\edu1\\lib\\site-packages (from requests<3,>=2.27->streamlit->-r requirements.txt (line 11)) (3.6)\n",
      "Requirement already satisfied: urllib3<3,>=1.21.1 in c:\\users\\mubar\\anaconda3\\envs\\edu1\\lib\\site-packages (from requests<3,>=2.27->streamlit->-r requirements.txt (line 11)) (2.2.1)\n",
      "Requirement already satisfied: certifi>=2017.4.17 in c:\\users\\mubar\\anaconda3\\envs\\edu1\\lib\\site-packages (from requests<3,>=2.27->streamlit->-r requirements.txt (line 11)) (2024.2.2)\n",
      "Requirement already satisfied: markdown-it-py>=2.2.0 in c:\\users\\mubar\\anaconda3\\envs\\edu1\\lib\\site-packages (from rich<14,>=10.14.0->streamlit->-r requirements.txt (line 11)) (3.0.0)\n",
      "Requirement already satisfied: pygments<3.0.0,>=2.13.0 in c:\\users\\mubar\\anaconda3\\envs\\edu1\\lib\\site-packages (from rich<14,>=10.14.0->streamlit->-r requirements.txt (line 11)) (2.17.2)\n",
      "Requirement already satisfied: smmap<6,>=3.0.1 in c:\\users\\mubar\\anaconda3\\envs\\edu1\\lib\\site-packages (from gitdb<5,>=4.0.1->gitpython!=3.1.19,<4,>=3.0.7->streamlit->-r requirements.txt (line 11)) (5.0.1)\n",
      "Requirement already satisfied: MarkupSafe>=2.0 in c:\\users\\mubar\\anaconda3\\envs\\edu1\\lib\\site-packages (from jinja2->altair<6,>=4.0->streamlit->-r requirements.txt (line 11)) (2.1.5)\n",
      "Requirement already satisfied: attrs>=22.2.0 in c:\\users\\mubar\\anaconda3\\envs\\edu1\\lib\\site-packages (from jsonschema>=3.0->altair<6,>=4.0->streamlit->-r requirements.txt (line 11)) (23.2.0)\n",
      "Requirement already satisfied: jsonschema-specifications>=2023.03.6 in c:\\users\\mubar\\anaconda3\\envs\\edu1\\lib\\site-packages (from jsonschema>=3.0->altair<6,>=4.0->streamlit->-r requirements.txt (line 11)) (2023.12.1)\n",
      "Requirement already satisfied: pkgutil-resolve-name>=1.3.10 in c:\\users\\mubar\\anaconda3\\envs\\edu1\\lib\\site-packages (from jsonschema>=3.0->altair<6,>=4.0->streamlit->-r requirements.txt (line 11)) (1.3.10)\n",
      "Requirement already satisfied: referencing>=0.28.4 in c:\\users\\mubar\\anaconda3\\envs\\edu1\\lib\\site-packages (from jsonschema>=3.0->altair<6,>=4.0->streamlit->-r requirements.txt (line 11)) (0.34.0)\n",
      "Requirement already satisfied: rpds-py>=0.7.1 in c:\\users\\mubar\\anaconda3\\envs\\edu1\\lib\\site-packages (from jsonschema>=3.0->altair<6,>=4.0->streamlit->-r requirements.txt (line 11)) (0.18.0)\n",
      "Requirement already satisfied: mdurl~=0.1 in c:\\users\\mubar\\anaconda3\\envs\\edu1\\lib\\site-packages (from markdown-it-py>=2.2.0->rich<14,>=10.14.0->streamlit->-r requirements.txt (line 11)) (0.1.2)\n",
      "Installing collected packages: student-drop-out\n",
      "  Attempting uninstall: student-drop-out\n",
      "    Found existing installation: student-drop-out 0.0.0\n",
      "    Uninstalling student-drop-out-0.0.0:\n",
      "      Successfully uninstalled student-drop-out-0.0.0\n",
      "  Running setup.py develop for student-drop-out\n",
      "Successfully installed student-drop-out-0.0.0\n",
      "Note: you may need to restart the kernel to use updated packages.\n"
     ]
    }
   ],
   "source": [
    "pip install -r requirements.txt"
   ]
  },
  {
   "cell_type": "code",
   "execution_count": 17,
   "metadata": {},
   "outputs": [
    {
     "ename": "ModuleNotFoundError",
     "evalue": "No module named 'student_drop_out'",
     "output_type": "error",
     "traceback": [
      "\u001b[1;31m---------------------------------------------------------------------------\u001b[0m",
      "\u001b[1;31mModuleNotFoundError\u001b[0m                       Traceback (most recent call last)",
      "Cell \u001b[1;32mIn[17], line 4\u001b[0m\n\u001b[0;32m      2\u001b[0m \u001b[38;5;28;01mimport\u001b[39;00m \u001b[38;5;21;01murllib\u001b[39;00m\u001b[38;5;21;01m.\u001b[39;00m\u001b[38;5;21;01mrequest\u001b[39;00m \u001b[38;5;28;01mas\u001b[39;00m \u001b[38;5;21;01mrequest\u001b[39;00m\n\u001b[0;32m      3\u001b[0m \u001b[38;5;28;01mimport\u001b[39;00m \u001b[38;5;21;01mzipfile\u001b[39;00m\n\u001b[1;32m----> 4\u001b[0m \u001b[38;5;28;01mfrom\u001b[39;00m \u001b[38;5;21;01mstudent_drop_out\u001b[39;00m \u001b[38;5;28;01mimport\u001b[39;00m logger\n\u001b[0;32m      5\u001b[0m \u001b[38;5;28;01mfrom\u001b[39;00m \u001b[38;5;21;01mstudent_drop_out\u001b[39;00m\u001b[38;5;21;01m.\u001b[39;00m\u001b[38;5;21;01mutils\u001b[39;00m\u001b[38;5;21;01m.\u001b[39;00m\u001b[38;5;21;01mcommon\u001b[39;00m \u001b[38;5;28;01mimport\u001b[39;00m get_size\n",
      "\u001b[1;31mModuleNotFoundError\u001b[0m: No module named 'student_drop_out'"
     ]
    }
   ],
   "source": [
    "import os\n",
    "import urllib.request as request\n",
    "import zipfile\n",
    "from student_drop_out import logger\n",
    "from student_drop_out.utils.common import get_size"
   ]
  },
  {
   "cell_type": "code",
   "execution_count": 18,
   "metadata": {},
   "outputs": [],
   "source": [
    "class DataIngestion:\n",
    "    def __init__(self, config: DataIngestionConfig):\n",
    "        self.config = config\n",
    "\n",
    "\n",
    "    \n",
    "    def download_file(self):\n",
    "        if not os.path.exists(self.config.local_data_file):\n",
    "            filename, headers = request.urlretrieve(\n",
    "                url = self.config.source_URL,\n",
    "                filename = self.config.local_data_file\n",
    "            )\n",
    "            logger.info(f\"{filename} download! with following info: \\n{headers}\")\n",
    "        else:\n",
    "            logger.info(f\"File already exists of size: {get_size(Path(self.config.local_data_file))}\")\n",
    "\n",
    "\n",
    "\n",
    "    \n",
    "    def extract_zip_file(self):\n",
    "        \"\"\"\n",
    "        zip_file_path: str\n",
    "        Extracts the zip file into the data directory\n",
    "        Function returns None\n",
    "        \"\"\"\n",
    "        unzip_path = self.config.unzip_dir\n",
    "        os.makedirs(unzip_path, exist_ok=True)\n",
    "        with zipfile.ZipFile(self.config.local_data_file, 'r') as zip_ref:\n",
    "            zip_ref.extractall(unzip_path)\n"
   ]
  },
  {
   "cell_type": "code",
   "execution_count": 19,
   "metadata": {},
   "outputs": [
    {
     "ename": "NameError",
     "evalue": "name 'ConfigurationManager' is not defined",
     "output_type": "error",
     "traceback": [
      "\u001b[1;31m---------------------------------------------------------------------------\u001b[0m",
      "\u001b[1;31mNameError\u001b[0m                                 Traceback (most recent call last)",
      "Cell \u001b[1;32mIn[19], line 8\u001b[0m\n\u001b[0;32m      6\u001b[0m     data_ingestion\u001b[38;5;241m.\u001b[39mextract_zip_file()\n\u001b[0;32m      7\u001b[0m \u001b[38;5;28;01mexcept\u001b[39;00m \u001b[38;5;167;01mException\u001b[39;00m \u001b[38;5;28;01mas\u001b[39;00m e:\n\u001b[1;32m----> 8\u001b[0m     \u001b[38;5;28;01mraise\u001b[39;00m e\n",
      "Cell \u001b[1;32mIn[19], line 2\u001b[0m\n\u001b[0;32m      1\u001b[0m \u001b[38;5;28;01mtry\u001b[39;00m:\n\u001b[1;32m----> 2\u001b[0m     config \u001b[38;5;241m=\u001b[39m \u001b[43mConfigurationManager\u001b[49m()\n\u001b[0;32m      3\u001b[0m     data_ingestion_config \u001b[38;5;241m=\u001b[39m config\u001b[38;5;241m.\u001b[39mget_data_ingestion_config()\n\u001b[0;32m      4\u001b[0m     data_ingestion \u001b[38;5;241m=\u001b[39m DataIngestion(config\u001b[38;5;241m=\u001b[39mdata_ingestion_config)\n",
      "\u001b[1;31mNameError\u001b[0m: name 'ConfigurationManager' is not defined"
     ]
    }
   ],
   "source": [
    "try:\n",
    "    config = ConfigurationManager()\n",
    "    data_ingestion_config = config.get_data_ingestion_config()\n",
    "    data_ingestion = DataIngestion(config=data_ingestion_config)\n",
    "    data_ingestion.download_file()\n",
    "    data_ingestion.extract_zip_file()\n",
    "except Exception as e:\n",
    "    raise e"
   ]
  },
  {
   "cell_type": "code",
   "execution_count": null,
   "metadata": {},
   "outputs": [],
   "source": []
  }
 ],
 "metadata": {
  "kernelspec": {
   "display_name": "Python 3.8.18 ('mlproj')",
   "language": "python",
   "name": "python3"
  },
  "language_info": {
   "codemirror_mode": {
    "name": "ipython",
    "version": 3
   },
   "file_extension": ".py",
   "mimetype": "text/x-python",
   "name": "python",
   "nbconvert_exporter": "python",
   "pygments_lexer": "ipython3",
   "version": "3.8.18"
  },
  "orig_nbformat": 4,
  "vscode": {
   "interpreter": {
    "hash": "2b1d4e73424c92236152b8027eb8b098ceeb9dd2f99e55c69bd825e7d52209b6"
   }
  }
 },
 "nbformat": 4,
 "nbformat_minor": 2
}
